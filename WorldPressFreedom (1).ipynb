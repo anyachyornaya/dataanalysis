{
 "cells": [
  {
   "cell_type": "markdown",
   "metadata": {},
   "source": [
    "# World Press Freedom "
   ]
  },
  {
   "cell_type": "markdown",
   "metadata": {},
   "source": [
    "## Данные "
   ]
  },
  {
   "cell_type": "markdown",
   "metadata": {},
   "source": [
    "Данные взяты с сайта: https://rsf.org/en"
   ]
  },
  {
   "cell_type": "markdown",
   "metadata": {},
   "source": [
    "Ежегодно организация \"Репортеры без границ\" публикует свой рейтинг стран, характеризующий \"доброжелательность\" страны к журналистам. Среди журналистов и экспертов проводится опрос, согласно которому рассчитываются такие показатели как:плюрализм, независимость СМИ, окружение и самоцензура, законодательство, прозрачность, инфраструктура, репрессии. Далее согласно методологии рассчитывается индекс свободы прессы. Чем меньше данные показатель, тем обстановка в стране для журналистов считается благополучнее."
   ]
  },
  {
   "cell_type": "markdown",
   "metadata": {},
   "source": [
    "## Библиотеки"
   ]
  },
  {
   "cell_type": "code",
   "execution_count": 9,
   "metadata": {},
   "outputs": [],
   "source": [
    "import sys\n",
    "\n",
    "from PyQt5.QtWidgets import QMainWindow, QApplication, QPushButton, QWidget,\\\n",
    "    QTabWidget, QGridLayout, QTableWidget, QTableWidgetItem, QHeaderView\n",
    "from PyQt5 import QtCore\n",
    "import requests\n",
    "import io\n",
    "import pandas as pd\n",
    "import matplotlib\n",
    "matplotlib.use('Qt5Agg')\n",
    "import matplotlib.pyplot as plt\n",
    "from matplotlib import colorbar, colors\n",
    "from matplotlib.backends.backend_qt4agg import FigureCanvasQTAgg as FigureCanvas\n",
    "import cartopy.crs as ccrs\n",
    "import cartopy.io.shapereader as shpreader\n",
    "import numpy as np"
   ]
  },
  {
   "cell_type": "markdown",
   "metadata": {},
   "source": [
    "## Глобальные константы"
   ]
  },
  {
   "cell_type": "markdown",
   "metadata": {},
   "source": [
    "DICT_MATCHING - сопоставление стран и их кодов (если код в исходных данных не совпадает с кодом для cartopy); FIELDS_TO_VIEW - сопоставление атрибутов полученных данных с атрибутами на просмотр."
   ]
  },
  {
   "cell_type": "code",
   "execution_count": 10,
   "metadata": {},
   "outputs": [],
   "source": [
    "URL = 'https://rsf.org/sites/default/files/index_2019_-_pour_import_1_1.csv'\n",
    "DICT_MATCHING = {\n",
    "    'Norway': 'NOR',\n",
    "    'France': 'FRA',\n",
    "    'Somaliland': 'SOM',\n",
    "    'N. Cyprus': 'CTU',\n",
    "    'Kosovo': 'XKO',\n",
    "    'W. Sahara': 'MAR'\n",
    "}\n",
    "FIELDS_TO_VIEW = {\n",
    "    'EN_country': 'Country',\n",
    "    'Score 2019': 'Score 2019',\n",
    "    'Score 2018': 'Score 2018',\n",
    "    'Progression RANK': 'Progression rank',\n",
    "    'Rank2019': 'Rank 2019',\n",
    "    'Rank 2018': 'Rank 2018',\n",
    "}"
   ]
  },
  {
   "cell_type": "markdown",
   "metadata": {},
   "source": [
    "## Класс окна"
   ]
  },
  {
   "cell_type": "code",
   "execution_count": 11,
   "metadata": {},
   "outputs": [],
   "source": [
    "class MainWindow(QMainWindow):\n",
    "\n",
    "    def __init__(self):\n",
    "        super().__init__()\n",
    "        self.title = 'RSF'\n",
    "        self.setFixedSize(1050, 700)\n",
    "        self.setWindowTitle(self.title)\n",
    "\n",
    "        self.table_widget = TabWidget(self)\n",
    "        self.setCentralWidget(self.table_widget)\n",
    "\n",
    "        self.show()"
   ]
  },
  {
   "cell_type": "markdown",
   "metadata": {},
   "source": [
    "## Класс виджетов"
   ]
  },
  {
   "cell_type": "code",
   "execution_count": 12,
   "metadata": {},
   "outputs": [],
   "source": [
    "class TabWidget(QWidget):\n",
    "\n",
    "    def __init__(self, parent):\n",
    "        super(QWidget, self).__init__(parent)\n",
    "\n",
    "        self.layout = QGridLayout(self)\n",
    "        self.setLayout(self.layout)\n",
    "\n",
    "        self.df = get_data()\n",
    "\n",
    "        # START TABS\n",
    "        self.tabs = QTabWidget()\n",
    "\n",
    "        self.tab_table = QWidget()\n",
    "        self.tab_map = QWidget()\n",
    "\n",
    "        self.tabs.addTab(self.tab_table, \"Данные\")\n",
    "        self.tabs.addTab(self.tab_map, \"Карта\")\n",
    "        self.layout.addWidget(self.tabs)\n",
    "        # END TABS\n",
    "\n",
    "        # START TABLE\n",
    "        self.table = QTableWidget(self)\n",
    "\n",
    "        self.table.horizontalHeader().setSectionResizeMode(QHeaderView.Stretch)\n",
    "        self.table.verticalHeader().setVisible(False)\n",
    "\n",
    "        self.table.setEditTriggers(QTableWidget.NoEditTriggers)\n",
    "        # END TABLE\n",
    "\n",
    "        # START PLOTS\n",
    "        self.plot_map = MatPlot(self.tab_map)\n",
    "        # END PLOTS\n",
    "\n",
    "        # START BUTTONS\n",
    "        self.btn_2019 = QPushButton('2019', self.tab_map)\n",
    "        self.btn_2019.setCheckable(True)\n",
    "        self.btn_2019.setChecked(True)\n",
    "        self.btn_2019.clicked[bool].connect(self.change_year)\n",
    "        self.btn_2018 = QPushButton('2018', self.tab_map)\n",
    "        self.btn_2018.clicked[bool].connect(self.change_year)\n",
    "        self.btn_2018.setCheckable(True)\n",
    "        # END BUTTONS\n",
    "\n",
    "        # START FILLING TABS\n",
    "        self.layout_tab_table = QGridLayout()\n",
    "        self.tab_table.setLayout(self.layout_tab_table)\n",
    "\n",
    "        self.layout_tab_map = QGridLayout()\n",
    "        self.tab_map.setLayout(self.layout_tab_map)\n",
    "        # END FILLING TABS\n",
    "\n",
    "        self.set_position()\n",
    "\n",
    "        self.fill()\n",
    "        self.refresh_plot('Score 2019')\n",
    "\n",
    "    def set_position(self):\n",
    "        self.layout_tab_table.addWidget(self.table, 0, 0)\n",
    "\n",
    "        self.layout_tab_map.addWidget(self.btn_2018, 0, 4, 1, 1)\n",
    "        self.layout_tab_map.addWidget(self.btn_2019, 0, 5, 1, 1)\n",
    "        self.layout_tab_map.addWidget(self.plot_map.canvas, 1, 0, 1, 10)\n",
    "\n",
    "    def fill(self, df=None):\n",
    "        if df is None:\n",
    "            df = self.df[list(FIELDS_TO_VIEW.keys())]\n",
    "        headers = df.columns.values.tolist()\n",
    "        headers = [FIELDS_TO_VIEW[name_field] for name_field in headers if name_field in FIELDS_TO_VIEW]\n",
    "        self.table.setColumnCount(len(headers))\n",
    "        self.table.setHorizontalHeaderLabels(headers)\n",
    "        self.table.setRowCount(df.shape[0])\n",
    "        for i, row in df.iterrows():\n",
    "            for j in range(self.table.columnCount()):\n",
    "                self.table.setItem(i, j, QTableWidgetItem(str(row[j])))\n",
    "\n",
    "    def refresh_plot(self, field):\n",
    "        self.plot_map.get_plot(self.df, field)\n",
    "\n",
    "    def change_year(self):\n",
    "        source = self.sender()\n",
    "        if source == self.btn_2019:\n",
    "            if self.btn_2019.isChecked():\n",
    "                self.btn_2018.setChecked(False)\n",
    "                self.refresh_plot('Score 2019')\n",
    "            else:\n",
    "                self.btn_2019.setChecked(True)\n",
    "        elif source == self.btn_2018:\n",
    "            if self.btn_2018.isChecked():\n",
    "                self.btn_2019.setChecked(False)\n",
    "                self.refresh_plot('Score 2018')\n",
    "            else:\n",
    "                self.btn_2018.setChecked(True)"
   ]
  },
  {
   "cell_type": "markdown",
   "metadata": {},
   "source": [
    "## Класс отрисовки карты"
   ]
  },
  {
   "cell_type": "code",
   "execution_count": 13,
   "metadata": {},
   "outputs": [],
   "source": [
    "class MatPlot(object):\n",
    "    def __init__(self, parent):\n",
    "        shapename = 'admin_0_countries'\n",
    "        self.curr_score = None\n",
    "        self.countries_shp = shpreader.natural_earth(\n",
    "            resolution='110m',\n",
    "            category='cultural',\n",
    "            name=shapename\n",
    "        )\n",
    "\n",
    "        self.fig, self.ax = plt.subplots(subplot_kw={'projection': ccrs.PlateCarree()})\n",
    "        self.scale = self.fig.add_axes([0.25, 0.24, 0.5, 0.03])\n",
    "        self.canvas = FigureCanvas(self.fig)\n",
    "        self.canvas.setParent(parent)\n",
    "\n",
    "    def get_plot(self, df, field='Score 2019', colormap='afmhot_r', plotscale=True, count_ticks=10):\n",
    "        if self.curr_score == field:\n",
    "            return\n",
    "        self.ax.clear()\n",
    "        self.scale.clear()\n",
    "\n",
    "        k1 = 0.8\n",
    "        k2 = 1 - k1\n",
    "\n",
    "        cmap = plt.get_cmap(colormap)\n",
    "        max_val = df[field].max()\n",
    "        min_val = df[field].min()\n",
    "        for country in shpreader.Reader(self.countries_shp).records():\n",
    "            name_country = DICT_MATCHING.get(country.attributes['NAME'], country.attributes['ISO_A3'])\n",
    "            if name_country in df['ISO'].values:\n",
    "                val = df[df['ISO'] == name_country][field].values[0]\n",
    "                color = cmap([val / max_val * k1 + k2]).ravel().tolist()\n",
    "            else:\n",
    "                color = '#ffffff'\n",
    "\n",
    "            self.ax.add_geometries(\n",
    "                country.geometry,\n",
    "                ccrs.PlateCarree(),\n",
    "                facecolor=color\n",
    "            )\n",
    "\n",
    "        self.ax.set_title('World Press Freedom', size=12)\n",
    "        if plotscale:\n",
    "            min_color = round(min_val / max_val * k1 + k2, 2)\n",
    "            cbar = colorbar.ColorbarBase(\n",
    "                self.scale,\n",
    "                cmap=cmap,\n",
    "                norm=colors.Normalize(vmin=min_color, vmax=1),\n",
    "                orientation='horizontal',\n",
    "                ticks=np.round(np.linspace(min_color, 1, count_ticks), 2)\n",
    "            )\n",
    "            cbar.set_clim(0, 1)\n",
    "            cbar.ax.set_title(field)\n",
    "            cbar.ax.set_xticklabels(np.round(np.linspace(min_val, max_val, count_ticks), 2))\n",
    "\n",
    "        self.curr_score = field\n",
    "        self.canvas.draw()"
   ]
  },
  {
   "cell_type": "markdown",
   "metadata": {},
   "source": [
    "## Класс данных"
   ]
  },
  {
   "cell_type": "code",
   "execution_count": 14,
   "metadata": {},
   "outputs": [],
   "source": [
    "def get_data():\n",
    "    response = requests.get(URL)\n",
    "\n",
    "    with io.StringIO(response.content.decode('utf-8')) as f:\n",
    "        return pd.read_csv(f, decimal=',')"
   ]
  },
  {
   "cell_type": "code",
   "execution_count": 15,
   "metadata": {},
   "outputs": [
    {
     "data": {
      "text/plain": [
       "-1"
      ]
     },
     "execution_count": 15,
     "metadata": {},
     "output_type": "execute_result"
    }
   ],
   "source": [
    "app = QtCore.QCoreApplication.instance()\n",
    "if app is None:\n",
    "    app = QtWidgets.QApplication(sys.argv)\n",
    "ex = MainWindow()\n",
    "app.exec_()"
   ]
  },
  {
   "cell_type": "code",
   "execution_count": null,
   "metadata": {},
   "outputs": [],
   "source": []
  }
 ],
 "metadata": {
  "kernelspec": {
   "display_name": "Python 3",
   "language": "python",
   "name": "python3"
  },
  "language_info": {
   "codemirror_mode": {
    "name": "ipython",
    "version": 3
   },
   "file_extension": ".py",
   "mimetype": "text/x-python",
   "name": "python",
   "nbconvert_exporter": "python",
   "pygments_lexer": "ipython3",
   "version": "3.6.5"
  }
 },
 "nbformat": 4,
 "nbformat_minor": 2
}
